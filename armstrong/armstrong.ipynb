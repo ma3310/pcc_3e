{
 "cells": [
  {
   "cell_type": "code",
   "execution_count": 62,
   "metadata": {
    "collapsed": false
   },
   "outputs": [
    {
     "name": "stdout",
     "output_type": "stream",
     "text": [
      "Hello, world!\n",
      "Hello, again!\n",
      "String methods demonstrations:\n",
      "\t.title()\tHello, Again!\n",
      "\t.upper()\tHELLO, AGAIN!\n",
      "\t.lower()\thello, again!\n",
      "\t.removeprefix()\n",
      "\t\t\t\tdocs.python.org/3/library/venv.html\n"
     ]
    }
   ],
   "source": [
    "# Variable and Sting variables Usage\n",
    "message = \"Hello, world!\"\n",
    "print(message)\n",
    "\n",
    "message = \"Hello, again!\"\n",
    "print(message)\n",
    "\n",
    "# String Methods\n",
    "print(\"String methods demonstrations:\")\n",
    "message = \"\\t\" + message # String Concatenation\n",
    "print('\\t.title()' + message.title())\n",
    "print('\\t.upper()' + message.upper())\n",
    "print('\\t.lower()' + message.lower())\n",
    "\n",
    "print(\"\\t.removeprefix()\\n\\t\\t\\t\\t\" + 'https://docs.python.org/3/library/venv.html'.removeprefix(\"https://\"))"
   ]
  },
  {
   "cell_type": "code",
   "execution_count": 63,
   "metadata": {
    "collapsed": false
   },
   "outputs": [
    {
     "name": "stdout",
     "output_type": "stream",
     "text": [
      "Hello, variables\n",
      "Hello, Variables\n"
     ]
    }
   ],
   "source": [
    "# Using variables in f-String\n",
    "who = \"variables\"\n",
    "print(f\"Hello, {who}\")\n",
    "\n",
    "greeting_template = f\"Hello, {who.title()}\"\n",
    "print(greeting_template)\n"
   ]
  },
  {
   "cell_type": "code",
   "execution_count": 64,
   "metadata": {
    "collapsed": false
   },
   "outputs": [
    {
     "name": "stdout",
     "output_type": "stream",
     "text": [
      "Strip then handling: Hello, John Doe!\n",
      "\n",
      "Use double quotes(\") when apostrophe is required: \n",
      "\tOne of Python's strengths is its diverse community.\n"
     ]
    }
   ],
   "source": [
    "# Whitespace Striping\n",
    "name = ' John \\t'\n",
    "surname = '\\n Doe '\n",
    "who = f\"{name.rstrip()} {surname.lstrip()}\"\n",
    "print(\"Strip then handling: \", end='') # print without new line\n",
    "print(f\"Hello, {who.strip()}!\\n\");\n",
    "\n",
    "# Quotes Usage\n",
    "print(\"Use double quotes(\\\") when apostrophe is required: \")\n",
    "print(\"\\tOne of Python's strengths is its diverse community.\");"
   ]
  },
  {
   "cell_type": "code",
   "execution_count": 65,
   "metadata": {
    "collapsed": false
   },
   "outputs": [
    {
     "name": "stdout",
     "output_type": "stream",
     "text": [
      "3**4 = 81\n"
     ]
    }
   ],
   "source": [
    "# Number\n",
    "exp = \"3**4\"\n",
    "print(exp, \"=\", eval(exp));"
   ]
  },
  {
   "cell_type": "code",
   "execution_count": 65,
   "metadata": {
    "collapsed": false
   },
   "outputs": [],
   "source": []
  }
 ],
 "metadata": {
  "kernelspec": {
   "display_name": "Python 3 (ipykernel)",
   "language": "python",
   "name": "python3"
  },
  "language_info": {
   "codemirror_mode": {
    "name": "ipython",
    "version": 3
   },
   "file_extension": ".py",
   "mimetype": "text/x-python",
   "name": "python",
   "nbconvert_exporter": "python",
   "pygments_lexer": "ipython3",
   "version": "3.10.8"
  },
  "vscode": {
   "interpreter": {
    "hash": "5de1543e044f8ec52ca7fcd7ad4cec7f9ed1ef84403598d1d7173d0713bc8dd3"
   }
  }
 },
 "nbformat": 4,
 "nbformat_minor": 1
}
