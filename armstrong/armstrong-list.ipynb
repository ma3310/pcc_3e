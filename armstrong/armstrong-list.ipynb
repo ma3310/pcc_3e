{
 "cells": [
  {
   "cell_type": "code",
   "execution_count": 12,
   "metadata": {
    "collapsed": true
   },
   "outputs": [
    {
     "name": "stdout",
     "output_type": "stream",
     "text": [
      "List bicycles: ['trek', 'Canondale', 'redline', 'specialized']\n",
      "First element of bicycles: bicycles[0] = Trek.\n",
      "Last element of bicycles: bicycles[-1] = Specialized. \n",
      "\n",
      "Execute: bicycles[3] = 'phoenix'\n",
      "Current bicycles: ['trek', 'Canondale', 'redline', 'phoenix']\n",
      "\n",
      "Execute: bicycles.insert(3, 'specialized')\n",
      "Current bicycles: ['trek', 'Canondale', 'redline', 'specialized', 'phoenix']\n",
      "\n",
      "Execute: del bicycles[-1]\n",
      "Current bicycles: ['trek', 'Canondale', 'redline', 'specialized']\n",
      "\n",
      "Execute: bicycles.append('phoenix')\n",
      "Current bicycles: ['trek', 'Canondale', 'redline', 'specialized', 'phoenix']\n",
      "\n",
      "Execute: bicycles.extend(['forever', 'giant']) to add another list.\n",
      "Current bicycles: ['trek', 'Canondale', 'redline', 'specialized', 'phoenix', 'forever', 'giant']\n",
      "\n",
      "Execute: last = bicycles.pop()\n",
      "Popped value: giant\n",
      "Current bicycles: ['trek', 'Canondale', 'redline', 'specialized', 'phoenix', 'forever']\n"
     ]
    }
   ],
   "source": [
    "bicycles = ['trek', 'Canondale', 'redline', 'specialized']\n",
    "print(\"List bicycles:\", bicycles)\n",
    "print(f\"First element of bicycles: bicycles[0] = {bicycles[0].title()}.\")\n",
    "print(f\"Last element of bicycles: bicycles[-1] = {bicycles[-1].title()}.\", '\\n')\n",
    "\n",
    "# Change the 4th element\n",
    "state = \"bicycles[3] = 'phoenix'\"\n",
    "print('Execute:', state); exec(state)\n",
    "print(f'Current bicycles: {bicycles}\\n')\n",
    "\n",
    "# Insert element\n",
    "state = \"bicycles.insert(3, 'specialized')\"\n",
    "print('Execute:', state); exec(state)\n",
    "print(f'Current bicycles: {bicycles}')\n",
    "\n",
    "# Delete last element\n",
    "state = \"del bicycles[-1]\"\n",
    "print('\\nExecute:', state); exec(state)\n",
    "print(f'Current bicycles: {bicycles}')\n",
    "\n",
    "# Add element\n",
    "state = \"bicycles.append('phoenix')\"\n",
    "print('\\nExecute:', state); exec(state)\n",
    "print(f'Current bicycles: {bicycles}')\n",
    "\n",
    "# Add multiple elements (Add another list)\n",
    "state = \"bicycles.extend(['forever', 'giant'])\"\n",
    "print(f'\\nExecute:', state, 'to add another list.'); exec(state)\n",
    "print(f'Current bicycles: {bicycles}')\n",
    "\n",
    "# Pop last element\n",
    "last = ''\n",
    "state = \"last = bicycles.pop()\"\n",
    "print('\\nExecute:', state); exec(state)\n",
    "print(f'Popped value: {last}\\nCurrent bicycles: {bicycles}')\n",
    "\n",
    "# Pop specified position"
   ]
  },
  {
   "cell_type": "code",
   "execution_count": null,
   "metadata": {
    "collapsed": false
   },
   "outputs": [],
   "source": []
  }
 ],
 "metadata": {
  "kernelspec": {
   "display_name": "Python 3.10.8 ('.venv': venv)",
   "language": "python",
   "name": "python3"
  },
  "language_info": {
   "codemirror_mode": {
    "name": "ipython",
    "version": 3
   },
   "file_extension": ".py",
   "mimetype": "text/x-python",
   "name": "python",
   "nbconvert_exporter": "python",
   "pygments_lexer": "ipython3",
   "version": "3.10.8"
  },
  "vscode": {
   "interpreter": {
    "hash": "5de1543e044f8ec52ca7fcd7ad4cec7f9ed1ef84403598d1d7173d0713bc8dd3"
   }
  }
 },
 "nbformat": 4,
 "nbformat_minor": 0
}
